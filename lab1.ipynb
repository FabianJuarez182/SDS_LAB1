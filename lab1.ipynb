{
 "cells": [
  {
   "cell_type": "markdown",
   "metadata": {},
   "source": [
    "## Laboratorio #1 – Detección de Pishing\n",
    "\n",
    "#### Miembros\n",
    "- Jennifer Toxcon 21276\n",
    "- Fabian Juarez 21440"
   ]
  },
  {
   "cell_type": "markdown",
   "metadata": {},
   "source": [
    "### Parte 1 – Ingeniería de características"
   ]
  },
  {
   "cell_type": "code",
   "execution_count": 196,
   "metadata": {},
   "outputs": [],
   "source": [
    "##Importancion de librerias\n",
    "import numpy as np\n",
    "import pandas as pd\n",
    "import seaborn as sns\n",
    "import matplotlib.pyplot as plt\n",
    "from sklearn.feature_extraction.text import TfidfVectorizer\n",
    "from sklearn.model_selection import train_test_split\n",
    "from sklearn.svm import SVC\n",
    "from sklearn.metrics import confusion_matrix, classification_report, roc_curve, auc"
   ]
  },
  {
   "cell_type": "code",
   "execution_count": 197,
   "metadata": {},
   "outputs": [],
   "source": [
    "## carga de datos\n",
    "df = pd.read_csv(\"dataset_pishing.csv\", sep = \",\")"
   ]
  },
  {
   "cell_type": "code",
   "execution_count": 198,
   "metadata": {},
   "outputs": [
    {
     "data": {
      "text/plain": [
       "pandas.core.frame.DataFrame"
      ]
     },
     "execution_count": 198,
     "metadata": {},
     "output_type": "execute_result"
    }
   ],
   "source": [
    "type(df)"
   ]
  },
  {
   "cell_type": "code",
   "execution_count": 199,
   "metadata": {},
   "outputs": [
    {
     "data": {
      "text/html": [
       "<div>\n",
       "<style scoped>\n",
       "    .dataframe tbody tr th:only-of-type {\n",
       "        vertical-align: middle;\n",
       "    }\n",
       "\n",
       "    .dataframe tbody tr th {\n",
       "        vertical-align: top;\n",
       "    }\n",
       "\n",
       "    .dataframe thead th {\n",
       "        text-align: right;\n",
       "    }\n",
       "</style>\n",
       "<table border=\"1\" class=\"dataframe\">\n",
       "  <thead>\n",
       "    <tr style=\"text-align: right;\">\n",
       "      <th></th>\n",
       "      <th>url</th>\n",
       "      <th>status</th>\n",
       "    </tr>\n",
       "  </thead>\n",
       "  <tbody>\n",
       "    <tr>\n",
       "      <th>0</th>\n",
       "      <td>http://www.crestonwood.com/router.php</td>\n",
       "      <td>legitimate</td>\n",
       "    </tr>\n",
       "    <tr>\n",
       "      <th>1</th>\n",
       "      <td>http://shadetreetechnology.com/V4/validation/a...</td>\n",
       "      <td>phishing</td>\n",
       "    </tr>\n",
       "    <tr>\n",
       "      <th>2</th>\n",
       "      <td>https://support-appleld.com.secureupdate.duila...</td>\n",
       "      <td>phishing</td>\n",
       "    </tr>\n",
       "    <tr>\n",
       "      <th>3</th>\n",
       "      <td>http://rgipt.ac.in</td>\n",
       "      <td>legitimate</td>\n",
       "    </tr>\n",
       "    <tr>\n",
       "      <th>4</th>\n",
       "      <td>http://www.iracing.com/tracks/gateway-motorspo...</td>\n",
       "      <td>legitimate</td>\n",
       "    </tr>\n",
       "  </tbody>\n",
       "</table>\n",
       "</div>"
      ],
      "text/plain": [
       "                                                 url      status\n",
       "0              http://www.crestonwood.com/router.php  legitimate\n",
       "1  http://shadetreetechnology.com/V4/validation/a...    phishing\n",
       "2  https://support-appleld.com.secureupdate.duila...    phishing\n",
       "3                                 http://rgipt.ac.in  legitimate\n",
       "4  http://www.iracing.com/tracks/gateway-motorspo...  legitimate"
      ]
     },
     "execution_count": 199,
     "metadata": {},
     "output_type": "execute_result"
    }
   ],
   "source": [
    "## verificacion de estructura de la data\n",
    "n = int(input(\"Ingrese las filas que desea ver\"))\n",
    "df.head(n)"
   ]
  },
  {
   "cell_type": "code",
   "execution_count": 200,
   "metadata": {},
   "outputs": [
    {
     "name": "stdout",
     "output_type": "stream",
     "text": [
      "Conteo de cada status:\n",
      "status\n",
      "legitimate    5715\n",
      "phishing      5715\n",
      "Name: count, dtype: int64\n",
      "\n",
      "Porcentajes:\n",
      "status\n",
      "legitimate    50.0\n",
      "phishing      50.0\n",
      "Name: proportion, dtype: float64 %\n"
     ]
    }
   ],
   "source": [
    "# Contar los valores únicos en la columna 'status'\n",
    "status_counts = df['status'].value_counts()\n",
    "print(\"Conteo de cada status:\")\n",
    "print(status_counts)\n",
    "\n",
    "# Calcular los porcentajes\n",
    "status_percentages = df['status'].value_counts(normalize=True) * 100\n",
    "print(\"\\nPorcentajes:\")\n",
    "print(status_percentages.round(2), \"%\")"
   ]
  },
  {
   "cell_type": "markdown",
   "metadata": {},
   "source": [
    "Teniendo en cuenta lo anterior el dataset se encuentra balanceado."
   ]
  },
  {
   "cell_type": "markdown",
   "metadata": {},
   "source": [
    "### Derivación de características"
   ]
  },
  {
   "cell_type": "markdown",
   "metadata": {},
   "source": [
    "¿Qué ventajas tiene el análisis de una URL contra el análisis de otros datos, cómo el tiempo\n",
    "de vida del dominio, o las características de la página Web?\n",
    "\n",
    "Nos ayuda a evitar que se tenga que llegar a realizar una descarga de la pagina y este puede poseer un virus o codigo malisioso que puede afectarlo.\n",
    "\n",
    "Analizar una URL es rápido ya que solo es texto, mientras que al analizar la página completa o verificar el historial de dominio puede requerir más recursos y acceso a bases de datos externos, igualmente algunas páginas pueden bloquear el acceso de scarpers o herramientas de análisis, pero la URL se puede analizar sin necesidad de entrar al sitio web."
   ]
  },
  {
   "cell_type": "markdown",
   "metadata": {},
   "source": [
    "¿Qué características de una URL son más prometedoras para la detección de phishing?\n",
    "\n",
    "El análisis de una URL es una herramienta efectiva para detectar sitios de phishing, ya que su estructura puede revelar patrones sospechosos sin necesidad de acceder al contenido de la página. \n",
    "\n",
    "- Los sitios de phishing suelen imitar dominios legítimos agregando palabras clave reconocidas como \"login\", \"secure\", \"bank\" etc.\n",
    "\n",
    "- URLs que incluyen símbolos como @, %, -, _ en posiciones extrañas pueden estar tratando de ocultar su verdadero dominio.\n",
    "\n",
    "- URLs con múltiples subdirectorios anidados pueden ser indicativas de una estructura diseñada para engañar al usuario.\n",
    "\n",
    "- URLs extremadamente largas pueden ser un intento de ocultar información maliciosa dentro de parámetros.\n",
    "\n",
    "- Cantidad de subdominios\n",
    "\n",
    "- Redireccionamiento (poseer mas de una url)"
   ]
  },
  {
   "cell_type": "markdown",
   "metadata": {},
   "source": [
    "### Funciones para extraer características de una URL"
   ]
  },
  {
   "cell_type": "markdown",
   "metadata": {},
   "source": [
    "- Entropía de Shannon\n",
    "    - Calcula la entropía de la URL para medir qué tan aleatoria es.\n",
    "    - URLs generadas aleatoriamente suelen tener alta entropía.\n",
    "\n",
    "- Entropía relativa\n",
    "    - Normaliza la entropía de Shannon respecto a la longitud de la URL.\n",
    "    - URLs de phishing tienden a ser más caóticas que las legítimas.\n",
    "\n",
    "- Longitud total de la URL\n",
    "    - Calcula la cantidad total de caracteres en la URL.\n",
    "    - URLs largas suelen ser sospechosas.\n",
    "\n",
    "- Número de subdominios\n",
    "    - Cuenta los subdominios en la URL (separados por puntos .).\n",
    "    - Un número alto puede indicar phishing (login.secure.paypal.com).\n",
    "\n",
    "- Número de caracteres especiales en la URL\n",
    "    - Cuenta símbolos como -, _, /, @, ?, &, =.\n",
    "    - Phishers suelen incluir caracteres adicionales para disfrazar la URL.\n",
    "\n",
    "- Número de números en la URL\n",
    "    - Cuenta los dígitos en la URL.\n",
    "    - Los dominios legítimos rara vez incluyen números arbitrarios.\n",
    "\n",
    "- Número de palabras en el dominio\n",
    "    - Separa la parte del dominio y cuenta cuántas palabras contiene.\n",
    "\n",
    "- Presencia de palabras clave sospechosas\n",
    "    - Busca palabras como login, secure, account, update, verify, free, gift.\n",
    "    - Estas palabras son comunes en URLs de phishing.\n",
    "\n",
    "- Comparación con dominios de marca (Typosquatting)\n",
    "    - Calcula la distancia de Levenshtein entre la URL y nombres de dominio conocidos (g00gle.com vs. google.com).\n",
    "    - Detecta cambios sutiles que engañan a los usuarios.\n",
    "\n",
    "- Verificación de dominio en Alexa Top 1M\n",
    "    - Si el dominio está en el ranking de sitios más visitados, es menos probable que sea phishing.\n",
    "\n",
    "- Uso de TLD sospechoso\n",
    "    - Evalúa si el dominio tiene una extensión de alto riesgo (.tk, .ml, .cf, .ga, .gq).\n",
    "    - Los atacantes suelen usar estos TLDs gratuitos.\n",
    "\n",
    "- Número de directorios en el path\n",
    "    - Cuenta cuántas barras / hay en la URL (http://example.com/a/b/c/login.php).\n",
    "    - Un número alto puede indicar estructuras complejas usadas en phishing.\n",
    "\n",
    "- Uso de Punycode\n",
    "    - Verifica si la URL usa codificación Punycode (xn--paypal-login-xyz.com).\n",
    "    - Puede ser un intento de disfrazar caracteres Unicode.\n",
    "\n",
    "- Verificación de HTTP vs. HTTPS\n",
    "    - Evalúa si la URL usa http en lugar de https.\n",
    "    - Un sitio de phishing puede no tener certificado SSL válido.\n",
    "\n",
    "- Presencia de una dirección IP en lugar de dominio\n",
    "    - Si la URL contiene una dirección IP (http://192.168.1.1/login), es sospechosa."
   ]
  },
  {
   "cell_type": "code",
   "execution_count": 201,
   "metadata": {},
   "outputs": [
    {
     "name": "stdout",
     "output_type": "stream",
     "text": [
      "                                                 url      status  \\\n",
      "0              http://www.crestonwood.com/router.php  legitimate   \n",
      "1  http://shadetreetechnology.com/V4/validation/a...    phishing   \n",
      "2  https://support-appleld.com.secureupdate.duila...    phishing   \n",
      "3                                 http://rgipt.ac.in  legitimate   \n",
      "4  http://www.iracing.com/tracks/gateway-motorspo...  legitimate   \n",
      "\n",
      "   shannon_entropy  relative_entropy  url_length  subdomain_count  \\\n",
      "0         3.787043          0.102353          37                2   \n",
      "1         4.419864          0.057401          77                1   \n",
      "2         4.753412          0.037725         126                4   \n",
      "3         3.461320          0.192296          18                2   \n",
      "4         4.097662          0.074503          55                2   \n",
      "\n",
      "   special_char_count  number_count  domain_word_count  \\\n",
      "0                   3             0                  3   \n",
      "1                   5            17                  2   \n",
      "2                  14            19                  6   \n",
      "3                   2             0                  3   \n",
      "4                   7             0                  3   \n",
      "\n",
      "   suspicious_words_count  directory_count  has_punycode  is_https  has_ip  \\\n",
      "0                       0                1             0         0       0   \n",
      "1                       0                3             0         0       0   \n",
      "2                       2                2             0         1       0   \n",
      "3                       0                0             0         0       0   \n",
      "4                       0                2             0         0       0   \n",
      "\n",
      "   has_suspicious_tld  \n",
      "0                   0  \n",
      "1                   0  \n",
      "2                   0  \n",
      "3                   0  \n",
      "4                   0  \n"
     ]
    }
   ],
   "source": [
    "import pandas as pd\n",
    "from urllib.parse import urlparse\n",
    "import re\n",
    "import math\n",
    "\n",
    "def calculate_shannon_entropy(url):\n",
    "    \"\"\"Calcula la entropía de Shannon de una URL\"\"\"\n",
    "    prob = [float(url.count(c)) / len(url) for c in set(url)]\n",
    "    entropy = - sum([p * math.log(p) / math.log(2.0) for p in prob])\n",
    "    return entropy\n",
    "\n",
    "def calculate_relative_entropy(url):\n",
    "    \"\"\"Calcula la entropía relativa (normalizada por longitud)\"\"\"\n",
    "    entropy = calculate_shannon_entropy(url)\n",
    "    return entropy / len(url) if len(url) > 0 else 0\n",
    "\n",
    "def extract_features(df):\n",
    "    \"\"\"Extrae todas las características de las URLs y las añade al dataframe\"\"\"\n",
    "    # Entropía\n",
    "    df['shannon_entropy'] = df['url'].apply(calculate_shannon_entropy)\n",
    "    df['relative_entropy'] = df['url'].apply(calculate_relative_entropy)\n",
    "    \n",
    "    # Características básicas de longitud\n",
    "    df['url_length'] = df['url'].apply(len)\n",
    "    \n",
    "    # Subdominios\n",
    "    df['subdomain_count'] = df['url'].apply(lambda x: len(urlparse(x).netloc.split('.')) - 1)\n",
    "    \n",
    "    # Caracteres especiales\n",
    "    df['special_char_count'] = df['url'].apply(lambda x: len(re.findall(r'[-_/@?&=]', x)))\n",
    "    \n",
    "    # Números\n",
    "    df['number_count'] = df['url'].apply(lambda x: len(re.findall(r'\\d', x)))\n",
    "    \n",
    "    # Palabras en el dominio\n",
    "    df['domain_word_count'] = df['url'].apply(lambda x: len(re.findall(r'[a-zA-Z]+', urlparse(x).netloc)))\n",
    "    \n",
    "    # Palabras sospechosas\n",
    "    suspicious_words = ['login', 'secure', 'account', 'update', 'verify', 'free', 'gift']\n",
    "    df['suspicious_words_count'] = df['url'].apply(\n",
    "        lambda x: sum(1 for word in suspicious_words if word.lower() in x.lower())\n",
    "    )\n",
    "    \n",
    "    # Directorios en el path\n",
    "    df['directory_count'] = df['url'].apply(\n",
    "        lambda x: len([p for p in urlparse(x).path.split('/') if p])\n",
    "    )\n",
    "    \n",
    "    # Uso de Punycode\n",
    "    df['has_punycode'] = df['url'].apply(lambda x: 'xn--' in x.lower()).astype(int)\n",
    "    \n",
    "    # HTTP vs HTTPS\n",
    "    df['is_https'] = df['url'].apply(lambda x: x.startswith('https')).astype(int)\n",
    "    \n",
    "    # IP en lugar de dominio\n",
    "    ip_pattern = r'\\d{1,3}\\.\\d{1,3}\\.\\d{1,3}\\.\\d{1,3}'\n",
    "    df['has_ip'] = df['url'].apply(lambda x: bool(re.search(ip_pattern, urlparse(x).netloc))).astype(int)\n",
    "    \n",
    "    # TLD sospechosos\n",
    "    suspicious_tlds = ['.tk', '.ml', '.cf', '.ga', '.gq']\n",
    "    df['has_suspicious_tld'] = df['url'].apply(\n",
    "        lambda x: any(tld in urlparse(x).netloc.lower() for tld in suspicious_tlds)\n",
    "    ).astype(int)\n",
    "    \n",
    "    return df\n",
    "\n",
    "# Aplicar las características al dataset\n",
    "df_with_features = extract_features(df)\n",
    "\n",
    "# Mostrar las primeras filas con las nuevas características\n",
    "print(df_with_features.head())\n",
    "\n",
    "df.to_csv(\"dataset_with_features.csv\", index=False)"
   ]
  },
  {
   "cell_type": "markdown",
   "metadata": {},
   "source": [
    "### Preprocesamiento"
   ]
  },
  {
   "cell_type": "code",
   "execution_count": 202,
   "metadata": {},
   "outputs": [],
   "source": [
    "df = pd.read_csv(\"dataset_with_features.csv\", sep = \",\")"
   ]
  },
  {
   "cell_type": "code",
   "execution_count": 203,
   "metadata": {},
   "outputs": [],
   "source": [
    "# convertir la variable 'status' a binaria (1 = phishing, 0 = legitimate)\n",
    "df['status'] = df['status'].map({'phishing': 1, 'legitimate': 0})"
   ]
  },
  {
   "cell_type": "code",
   "execution_count": 204,
   "metadata": {},
   "outputs": [],
   "source": [
    "\n",
    "df['url'] = df['url'].str.lower().str.strip()  # Convertir a minúsculas y eliminar espacios innecesarios"
   ]
  },
  {
   "cell_type": "code",
   "execution_count": 205,
   "metadata": {},
   "outputs": [
    {
     "name": "stdout",
     "output_type": "stream",
     "text": [
      "                                                 url  status  shannon_entropy  \\\n",
      "0              http://www.crestonwood.com/router.php       0         3.787043   \n",
      "1  http://shadetreetechnology.com/v4/validation/a...       1         4.419864   \n",
      "2  https://support-appleld.com.secureupdate.duila...       1         4.753412   \n",
      "3                                 http://rgipt.ac.in       0         3.461320   \n",
      "4  http://www.iracing.com/tracks/gateway-motorspo...       0         4.097662   \n",
      "5                   http://appleid.apple.com-app.es/       1         3.666530   \n",
      "6                                http://www.mutuo.it       0         3.260828   \n",
      "7  http://www.shadetreetechnology.com/v4/validati...       1         4.771112   \n",
      "8         http://vamoaestudiarmedicina.blogspot.com/       0         4.195540   \n",
      "9  https://parade.com/425836/joshwigler/the-amazi...       0         4.481456   \n",
      "\n",
      "   relative_entropy  url_length  subdomain_count  special_char_count  \\\n",
      "0          0.102353          37                2                   3   \n",
      "1          0.057401          77                1                   5   \n",
      "2          0.037725         126                4                  14   \n",
      "3          0.192296          18                2                   2   \n",
      "4          0.074503          55                2                   7   \n",
      "5          0.114579          32                3                   4   \n",
      "6          0.171623          19                2                   2   \n",
      "7          0.058903          81                2                   5   \n",
      "8          0.099894          42                2                   3   \n",
      "9          0.043091         104                1                  16   \n",
      "\n",
      "   number_count  domain_word_count  suspicious_words_count  directory_count  \\\n",
      "0             0                  3                       0                1   \n",
      "1            17                  2                       0                3   \n",
      "2            19                  6                       2                2   \n",
      "3             0                  3                       0                0   \n",
      "4             0                  3                       0                2   \n",
      "5             0                  5                       0                0   \n",
      "6             0                  3                       0                0   \n",
      "7            21                  3                       0                3   \n",
      "8             0                  3                       0                0   \n",
      "9             8                  2                       0                3   \n",
      "\n",
      "   has_punycode  is_https  has_ip  has_suspicious_tld  \n",
      "0             0         0       0                   0  \n",
      "1             0         0       0                   0  \n",
      "2             0         1       0                   0  \n",
      "3             0         0       0                   0  \n",
      "4             0         0       0                   0  \n",
      "5             0         0       0                   0  \n",
      "6             0         0       0                   0  \n",
      "7             0         0       0                   0  \n",
      "8             0         0       0                   0  \n",
      "9             0         1       0                   0  \n"
     ]
    }
   ],
   "source": [
    "# Verificación de estructura de la data\n",
    "n = int(input(\"Ingrese las filas que desea ver: \"))\n",
    "print(df.head(n))"
   ]
  },
  {
   "cell_type": "code",
   "execution_count": 206,
   "metadata": {},
   "outputs": [],
   "source": [
    "selected_features = [\n",
    "    'url',\n",
    "    'status',\n",
    "    'shannon_entropy',      # Mide la aleatoriedad de la URL\n",
    "    'relative_entropy',     # Entropía normalizada por longitud\n",
    "    'url_length',          # Longitud total de la URL\n",
    "    'special_char_count',   # Cantidad de caracteres especiales\n",
    "    'suspicious_words_count', # Presencia de palabras sospechosas\n",
    "    'domain_word_count',    # Número de palabras en el dominio\n",
    "    'subdomain_count',      # Número de subdominios\n",
    "    'has_suspicious_tld'    # Presencia de TLD sospechoso\n",
    "]\n",
    "#crear el nuevo dataset con las características seleccionadas\n",
    "df_clean = df[selected_features]\n",
    "\n",
    "# Guardar el dataset limpio\n",
    "df_clean.to_csv(\"dataset_preprocesado.csv\", index=False)"
   ]
  },
  {
   "cell_type": "markdown",
   "metadata": {},
   "source": [
    "Caracteristicas:\n",
    "- shannon_entropy (Entropía de Shannon):  Muy efectiva para detectar URLs aleatorias o generadas automáticamente. Las URLs de phishing suelen tener una entropía más alta\n",
    "\n",
    "- relative_entropy (Entropía relativa): Proporciona una medida normalizada de la aleatoriedad. Ayuda a identificar patrones anómalos independientemente de la longitud\n",
    "\n",
    "- url_length: Las URLs de phishing tienden a ser significativamente más largas. Métrica simple pero muy discriminativa\n",
    "\n",
    "- special_char_count: Los ataques de phishing suelen usar más caracteres especiales. Ayuda a identificar URLs manipuladas\n",
    "\n",
    "- suspicious_words_count: La presencia de palabras como \"login\", \"secure\", \"account\" es común en phishing. Fuerte indicador de intento de engaño\n",
    "\n",
    "- domain_word_count: Los dominios legítimos suelen ser más cortos y simples. Los atacantes frecuentemente usan dominios más complejos\n",
    "\n",
    "- subdomain_count: Múltiples subdominios son una táctica común en phishing. Ayuda a detectar estructuras de URL sospechosas\n",
    "\n",
    "- has_suspicious_tld: Los TLDs gratuitos o poco comunes son frecuentemente usados en phishing. Indicador fuerte de posible malicia"
   ]
  },
  {
   "cell_type": "markdown",
   "metadata": {},
   "source": [
    "## Implementación"
   ]
  },
  {
   "cell_type": "code",
   "execution_count": 207,
   "metadata": {},
   "outputs": [],
   "source": [
    "# dataset preprocesado\n",
    "df = pd.read_csv(\"dataset_preprocesado.csv\")"
   ]
  },
  {
   "cell_type": "code",
   "execution_count": 208,
   "metadata": {},
   "outputs": [],
   "source": [
    "# Separar datos de entrenamiento (55%) y conjunto auxiliar (45%)\n",
    "train_val_data, test_data= train_test_split(df, test_size=0.45, random_state=42, stratify=df['status'])"
   ]
  },
  {
   "cell_type": "code",
   "execution_count": 209,
   "metadata": {},
   "outputs": [],
   "source": [
    "# datos de validación 15% y prueba 30% desde el conjunto auxiliar\n",
    "train_data, val_data = train_test_split(train_val_data, test_size=0.6667, random_state=42, stratify=train_val_data['status'])"
   ]
  },
  {
   "cell_type": "code",
   "execution_count": 210,
   "metadata": {},
   "outputs": [],
   "source": [
    "# Guardar en archivos CSV\n",
    "train_data.to_csv(\"train.csv\", index=False)\n",
    "val_data.to_csv(\"validation.csv\", index=False)\n",
    "test_data.to_csv(\"test.csv\", index=False)"
   ]
  },
  {
   "cell_type": "markdown",
   "metadata": {},
   "source": [
    "# Modelos"
   ]
  },
  {
   "cell_type": "markdown",
   "metadata": {},
   "source": [
    "## SVM"
   ]
  },
  {
   "cell_type": "markdown",
   "metadata": {},
   "source": [
    "Se escogió para realizar la clasificación ya que maneja bien los datos de alta dimensionalidad cuando se aplican transformaciones a las URLs. \n",
    "\n",
    "Funciona bien con datasets pequeños y medianos, aunque puede ser costoso computacionalmente con datos muy grandes."
   ]
  },
  {
   "cell_type": "code",
   "execution_count": 211,
   "metadata": {},
   "outputs": [],
   "source": [
    "# Cargar los datasets\n",
    "train_df = pd.read_csv(\"train.csv\")\n",
    "val_df = pd.read_csv(\"validation.csv\")\n",
    "test_df = pd.read_csv(\"test.csv\")"
   ]
  },
  {
   "cell_type": "code",
   "execution_count": 212,
   "metadata": {},
   "outputs": [],
   "source": [
    "# Separar características X y etiquetas Y\n",
    "X_train, y_train = train_df['url'], train_df['status']\n",
    "X_val, y_val = val_df['url'], val_df['status']\n",
    "X_test, y_test = test_df['url'], test_df['status']"
   ]
  },
  {
   "cell_type": "markdown",
   "metadata": {},
   "source": [
    "Convertir las URLs en características numéricas, usando TF-IDF (como en CANTINA).\n"
   ]
  },
  {
   "cell_type": "code",
   "execution_count": 213,
   "metadata": {},
   "outputs": [],
   "source": [
    "# Convertir URLs en características numéricas con TF-IDF\n",
    "vectorizer = TfidfVectorizer(analyzer='char', ngram_range=(2, 5))  # Usa n-gramas de caracteres\n",
    "X_train_tfidf = vectorizer.fit_transform(X_train)\n",
    "X_val_tfidf = vectorizer.transform(X_val)\n",
    "X_test_tfidf = vectorizer.transform(X_test)\n"
   ]
  },
  {
   "cell_type": "code",
   "execution_count": 214,
   "metadata": {},
   "outputs": [],
   "source": [
    "# Definir modelo SVM\n",
    "svm_model = SVC(kernel='linear', probability=True, random_state=42)\n"
   ]
  },
  {
   "cell_type": "markdown",
   "metadata": {},
   "source": [
    "Entrenar un modelo SVM con el conjunto de entrenamiento."
   ]
  },
  {
   "cell_type": "code",
   "execution_count": 215,
   "metadata": {},
   "outputs": [
    {
     "data": {
      "text/html": [
       "<style>#sk-container-id-5 {\n",
       "  /* Definition of color scheme common for light and dark mode */\n",
       "  --sklearn-color-text: #000;\n",
       "  --sklearn-color-text-muted: #666;\n",
       "  --sklearn-color-line: gray;\n",
       "  /* Definition of color scheme for unfitted estimators */\n",
       "  --sklearn-color-unfitted-level-0: #fff5e6;\n",
       "  --sklearn-color-unfitted-level-1: #f6e4d2;\n",
       "  --sklearn-color-unfitted-level-2: #ffe0b3;\n",
       "  --sklearn-color-unfitted-level-3: chocolate;\n",
       "  /* Definition of color scheme for fitted estimators */\n",
       "  --sklearn-color-fitted-level-0: #f0f8ff;\n",
       "  --sklearn-color-fitted-level-1: #d4ebff;\n",
       "  --sklearn-color-fitted-level-2: #b3dbfd;\n",
       "  --sklearn-color-fitted-level-3: cornflowerblue;\n",
       "\n",
       "  /* Specific color for light theme */\n",
       "  --sklearn-color-text-on-default-background: var(--sg-text-color, var(--theme-code-foreground, var(--jp-content-font-color1, black)));\n",
       "  --sklearn-color-background: var(--sg-background-color, var(--theme-background, var(--jp-layout-color0, white)));\n",
       "  --sklearn-color-border-box: var(--sg-text-color, var(--theme-code-foreground, var(--jp-content-font-color1, black)));\n",
       "  --sklearn-color-icon: #696969;\n",
       "\n",
       "  @media (prefers-color-scheme: dark) {\n",
       "    /* Redefinition of color scheme for dark theme */\n",
       "    --sklearn-color-text-on-default-background: var(--sg-text-color, var(--theme-code-foreground, var(--jp-content-font-color1, white)));\n",
       "    --sklearn-color-background: var(--sg-background-color, var(--theme-background, var(--jp-layout-color0, #111)));\n",
       "    --sklearn-color-border-box: var(--sg-text-color, var(--theme-code-foreground, var(--jp-content-font-color1, white)));\n",
       "    --sklearn-color-icon: #878787;\n",
       "  }\n",
       "}\n",
       "\n",
       "#sk-container-id-5 {\n",
       "  color: var(--sklearn-color-text);\n",
       "}\n",
       "\n",
       "#sk-container-id-5 pre {\n",
       "  padding: 0;\n",
       "}\n",
       "\n",
       "#sk-container-id-5 input.sk-hidden--visually {\n",
       "  border: 0;\n",
       "  clip: rect(1px 1px 1px 1px);\n",
       "  clip: rect(1px, 1px, 1px, 1px);\n",
       "  height: 1px;\n",
       "  margin: -1px;\n",
       "  overflow: hidden;\n",
       "  padding: 0;\n",
       "  position: absolute;\n",
       "  width: 1px;\n",
       "}\n",
       "\n",
       "#sk-container-id-5 div.sk-dashed-wrapped {\n",
       "  border: 1px dashed var(--sklearn-color-line);\n",
       "  margin: 0 0.4em 0.5em 0.4em;\n",
       "  box-sizing: border-box;\n",
       "  padding-bottom: 0.4em;\n",
       "  background-color: var(--sklearn-color-background);\n",
       "}\n",
       "\n",
       "#sk-container-id-5 div.sk-container {\n",
       "  /* jupyter's `normalize.less` sets `[hidden] { display: none; }`\n",
       "     but bootstrap.min.css set `[hidden] { display: none !important; }`\n",
       "     so we also need the `!important` here to be able to override the\n",
       "     default hidden behavior on the sphinx rendered scikit-learn.org.\n",
       "     See: https://github.com/scikit-learn/scikit-learn/issues/21755 */\n",
       "  display: inline-block !important;\n",
       "  position: relative;\n",
       "}\n",
       "\n",
       "#sk-container-id-5 div.sk-text-repr-fallback {\n",
       "  display: none;\n",
       "}\n",
       "\n",
       "div.sk-parallel-item,\n",
       "div.sk-serial,\n",
       "div.sk-item {\n",
       "  /* draw centered vertical line to link estimators */\n",
       "  background-image: linear-gradient(var(--sklearn-color-text-on-default-background), var(--sklearn-color-text-on-default-background));\n",
       "  background-size: 2px 100%;\n",
       "  background-repeat: no-repeat;\n",
       "  background-position: center center;\n",
       "}\n",
       "\n",
       "/* Parallel-specific style estimator block */\n",
       "\n",
       "#sk-container-id-5 div.sk-parallel-item::after {\n",
       "  content: \"\";\n",
       "  width: 100%;\n",
       "  border-bottom: 2px solid var(--sklearn-color-text-on-default-background);\n",
       "  flex-grow: 1;\n",
       "}\n",
       "\n",
       "#sk-container-id-5 div.sk-parallel {\n",
       "  display: flex;\n",
       "  align-items: stretch;\n",
       "  justify-content: center;\n",
       "  background-color: var(--sklearn-color-background);\n",
       "  position: relative;\n",
       "}\n",
       "\n",
       "#sk-container-id-5 div.sk-parallel-item {\n",
       "  display: flex;\n",
       "  flex-direction: column;\n",
       "}\n",
       "\n",
       "#sk-container-id-5 div.sk-parallel-item:first-child::after {\n",
       "  align-self: flex-end;\n",
       "  width: 50%;\n",
       "}\n",
       "\n",
       "#sk-container-id-5 div.sk-parallel-item:last-child::after {\n",
       "  align-self: flex-start;\n",
       "  width: 50%;\n",
       "}\n",
       "\n",
       "#sk-container-id-5 div.sk-parallel-item:only-child::after {\n",
       "  width: 0;\n",
       "}\n",
       "\n",
       "/* Serial-specific style estimator block */\n",
       "\n",
       "#sk-container-id-5 div.sk-serial {\n",
       "  display: flex;\n",
       "  flex-direction: column;\n",
       "  align-items: center;\n",
       "  background-color: var(--sklearn-color-background);\n",
       "  padding-right: 1em;\n",
       "  padding-left: 1em;\n",
       "}\n",
       "\n",
       "\n",
       "/* Toggleable style: style used for estimator/Pipeline/ColumnTransformer box that is\n",
       "clickable and can be expanded/collapsed.\n",
       "- Pipeline and ColumnTransformer use this feature and define the default style\n",
       "- Estimators will overwrite some part of the style using the `sk-estimator` class\n",
       "*/\n",
       "\n",
       "/* Pipeline and ColumnTransformer style (default) */\n",
       "\n",
       "#sk-container-id-5 div.sk-toggleable {\n",
       "  /* Default theme specific background. It is overwritten whether we have a\n",
       "  specific estimator or a Pipeline/ColumnTransformer */\n",
       "  background-color: var(--sklearn-color-background);\n",
       "}\n",
       "\n",
       "/* Toggleable label */\n",
       "#sk-container-id-5 label.sk-toggleable__label {\n",
       "  cursor: pointer;\n",
       "  display: flex;\n",
       "  width: 100%;\n",
       "  margin-bottom: 0;\n",
       "  padding: 0.5em;\n",
       "  box-sizing: border-box;\n",
       "  text-align: center;\n",
       "  align-items: start;\n",
       "  justify-content: space-between;\n",
       "  gap: 0.5em;\n",
       "}\n",
       "\n",
       "#sk-container-id-5 label.sk-toggleable__label .caption {\n",
       "  font-size: 0.6rem;\n",
       "  font-weight: lighter;\n",
       "  color: var(--sklearn-color-text-muted);\n",
       "}\n",
       "\n",
       "#sk-container-id-5 label.sk-toggleable__label-arrow:before {\n",
       "  /* Arrow on the left of the label */\n",
       "  content: \"▸\";\n",
       "  float: left;\n",
       "  margin-right: 0.25em;\n",
       "  color: var(--sklearn-color-icon);\n",
       "}\n",
       "\n",
       "#sk-container-id-5 label.sk-toggleable__label-arrow:hover:before {\n",
       "  color: var(--sklearn-color-text);\n",
       "}\n",
       "\n",
       "/* Toggleable content - dropdown */\n",
       "\n",
       "#sk-container-id-5 div.sk-toggleable__content {\n",
       "  max-height: 0;\n",
       "  max-width: 0;\n",
       "  overflow: hidden;\n",
       "  text-align: left;\n",
       "  /* unfitted */\n",
       "  background-color: var(--sklearn-color-unfitted-level-0);\n",
       "}\n",
       "\n",
       "#sk-container-id-5 div.sk-toggleable__content.fitted {\n",
       "  /* fitted */\n",
       "  background-color: var(--sklearn-color-fitted-level-0);\n",
       "}\n",
       "\n",
       "#sk-container-id-5 div.sk-toggleable__content pre {\n",
       "  margin: 0.2em;\n",
       "  border-radius: 0.25em;\n",
       "  color: var(--sklearn-color-text);\n",
       "  /* unfitted */\n",
       "  background-color: var(--sklearn-color-unfitted-level-0);\n",
       "}\n",
       "\n",
       "#sk-container-id-5 div.sk-toggleable__content.fitted pre {\n",
       "  /* unfitted */\n",
       "  background-color: var(--sklearn-color-fitted-level-0);\n",
       "}\n",
       "\n",
       "#sk-container-id-5 input.sk-toggleable__control:checked~div.sk-toggleable__content {\n",
       "  /* Expand drop-down */\n",
       "  max-height: 200px;\n",
       "  max-width: 100%;\n",
       "  overflow: auto;\n",
       "}\n",
       "\n",
       "#sk-container-id-5 input.sk-toggleable__control:checked~label.sk-toggleable__label-arrow:before {\n",
       "  content: \"▾\";\n",
       "}\n",
       "\n",
       "/* Pipeline/ColumnTransformer-specific style */\n",
       "\n",
       "#sk-container-id-5 div.sk-label input.sk-toggleable__control:checked~label.sk-toggleable__label {\n",
       "  color: var(--sklearn-color-text);\n",
       "  background-color: var(--sklearn-color-unfitted-level-2);\n",
       "}\n",
       "\n",
       "#sk-container-id-5 div.sk-label.fitted input.sk-toggleable__control:checked~label.sk-toggleable__label {\n",
       "  background-color: var(--sklearn-color-fitted-level-2);\n",
       "}\n",
       "\n",
       "/* Estimator-specific style */\n",
       "\n",
       "/* Colorize estimator box */\n",
       "#sk-container-id-5 div.sk-estimator input.sk-toggleable__control:checked~label.sk-toggleable__label {\n",
       "  /* unfitted */\n",
       "  background-color: var(--sklearn-color-unfitted-level-2);\n",
       "}\n",
       "\n",
       "#sk-container-id-5 div.sk-estimator.fitted input.sk-toggleable__control:checked~label.sk-toggleable__label {\n",
       "  /* fitted */\n",
       "  background-color: var(--sklearn-color-fitted-level-2);\n",
       "}\n",
       "\n",
       "#sk-container-id-5 div.sk-label label.sk-toggleable__label,\n",
       "#sk-container-id-5 div.sk-label label {\n",
       "  /* The background is the default theme color */\n",
       "  color: var(--sklearn-color-text-on-default-background);\n",
       "}\n",
       "\n",
       "/* On hover, darken the color of the background */\n",
       "#sk-container-id-5 div.sk-label:hover label.sk-toggleable__label {\n",
       "  color: var(--sklearn-color-text);\n",
       "  background-color: var(--sklearn-color-unfitted-level-2);\n",
       "}\n",
       "\n",
       "/* Label box, darken color on hover, fitted */\n",
       "#sk-container-id-5 div.sk-label.fitted:hover label.sk-toggleable__label.fitted {\n",
       "  color: var(--sklearn-color-text);\n",
       "  background-color: var(--sklearn-color-fitted-level-2);\n",
       "}\n",
       "\n",
       "/* Estimator label */\n",
       "\n",
       "#sk-container-id-5 div.sk-label label {\n",
       "  font-family: monospace;\n",
       "  font-weight: bold;\n",
       "  display: inline-block;\n",
       "  line-height: 1.2em;\n",
       "}\n",
       "\n",
       "#sk-container-id-5 div.sk-label-container {\n",
       "  text-align: center;\n",
       "}\n",
       "\n",
       "/* Estimator-specific */\n",
       "#sk-container-id-5 div.sk-estimator {\n",
       "  font-family: monospace;\n",
       "  border: 1px dotted var(--sklearn-color-border-box);\n",
       "  border-radius: 0.25em;\n",
       "  box-sizing: border-box;\n",
       "  margin-bottom: 0.5em;\n",
       "  /* unfitted */\n",
       "  background-color: var(--sklearn-color-unfitted-level-0);\n",
       "}\n",
       "\n",
       "#sk-container-id-5 div.sk-estimator.fitted {\n",
       "  /* fitted */\n",
       "  background-color: var(--sklearn-color-fitted-level-0);\n",
       "}\n",
       "\n",
       "/* on hover */\n",
       "#sk-container-id-5 div.sk-estimator:hover {\n",
       "  /* unfitted */\n",
       "  background-color: var(--sklearn-color-unfitted-level-2);\n",
       "}\n",
       "\n",
       "#sk-container-id-5 div.sk-estimator.fitted:hover {\n",
       "  /* fitted */\n",
       "  background-color: var(--sklearn-color-fitted-level-2);\n",
       "}\n",
       "\n",
       "/* Specification for estimator info (e.g. \"i\" and \"?\") */\n",
       "\n",
       "/* Common style for \"i\" and \"?\" */\n",
       "\n",
       ".sk-estimator-doc-link,\n",
       "a:link.sk-estimator-doc-link,\n",
       "a:visited.sk-estimator-doc-link {\n",
       "  float: right;\n",
       "  font-size: smaller;\n",
       "  line-height: 1em;\n",
       "  font-family: monospace;\n",
       "  background-color: var(--sklearn-color-background);\n",
       "  border-radius: 1em;\n",
       "  height: 1em;\n",
       "  width: 1em;\n",
       "  text-decoration: none !important;\n",
       "  margin-left: 0.5em;\n",
       "  text-align: center;\n",
       "  /* unfitted */\n",
       "  border: var(--sklearn-color-unfitted-level-1) 1pt solid;\n",
       "  color: var(--sklearn-color-unfitted-level-1);\n",
       "}\n",
       "\n",
       ".sk-estimator-doc-link.fitted,\n",
       "a:link.sk-estimator-doc-link.fitted,\n",
       "a:visited.sk-estimator-doc-link.fitted {\n",
       "  /* fitted */\n",
       "  border: var(--sklearn-color-fitted-level-1) 1pt solid;\n",
       "  color: var(--sklearn-color-fitted-level-1);\n",
       "}\n",
       "\n",
       "/* On hover */\n",
       "div.sk-estimator:hover .sk-estimator-doc-link:hover,\n",
       ".sk-estimator-doc-link:hover,\n",
       "div.sk-label-container:hover .sk-estimator-doc-link:hover,\n",
       ".sk-estimator-doc-link:hover {\n",
       "  /* unfitted */\n",
       "  background-color: var(--sklearn-color-unfitted-level-3);\n",
       "  color: var(--sklearn-color-background);\n",
       "  text-decoration: none;\n",
       "}\n",
       "\n",
       "div.sk-estimator.fitted:hover .sk-estimator-doc-link.fitted:hover,\n",
       ".sk-estimator-doc-link.fitted:hover,\n",
       "div.sk-label-container:hover .sk-estimator-doc-link.fitted:hover,\n",
       ".sk-estimator-doc-link.fitted:hover {\n",
       "  /* fitted */\n",
       "  background-color: var(--sklearn-color-fitted-level-3);\n",
       "  color: var(--sklearn-color-background);\n",
       "  text-decoration: none;\n",
       "}\n",
       "\n",
       "/* Span, style for the box shown on hovering the info icon */\n",
       ".sk-estimator-doc-link span {\n",
       "  display: none;\n",
       "  z-index: 9999;\n",
       "  position: relative;\n",
       "  font-weight: normal;\n",
       "  right: .2ex;\n",
       "  padding: .5ex;\n",
       "  margin: .5ex;\n",
       "  width: min-content;\n",
       "  min-width: 20ex;\n",
       "  max-width: 50ex;\n",
       "  color: var(--sklearn-color-text);\n",
       "  box-shadow: 2pt 2pt 4pt #999;\n",
       "  /* unfitted */\n",
       "  background: var(--sklearn-color-unfitted-level-0);\n",
       "  border: .5pt solid var(--sklearn-color-unfitted-level-3);\n",
       "}\n",
       "\n",
       ".sk-estimator-doc-link.fitted span {\n",
       "  /* fitted */\n",
       "  background: var(--sklearn-color-fitted-level-0);\n",
       "  border: var(--sklearn-color-fitted-level-3);\n",
       "}\n",
       "\n",
       ".sk-estimator-doc-link:hover span {\n",
       "  display: block;\n",
       "}\n",
       "\n",
       "/* \"?\"-specific style due to the `<a>` HTML tag */\n",
       "\n",
       "#sk-container-id-5 a.estimator_doc_link {\n",
       "  float: right;\n",
       "  font-size: 1rem;\n",
       "  line-height: 1em;\n",
       "  font-family: monospace;\n",
       "  background-color: var(--sklearn-color-background);\n",
       "  border-radius: 1rem;\n",
       "  height: 1rem;\n",
       "  width: 1rem;\n",
       "  text-decoration: none;\n",
       "  /* unfitted */\n",
       "  color: var(--sklearn-color-unfitted-level-1);\n",
       "  border: var(--sklearn-color-unfitted-level-1) 1pt solid;\n",
       "}\n",
       "\n",
       "#sk-container-id-5 a.estimator_doc_link.fitted {\n",
       "  /* fitted */\n",
       "  border: var(--sklearn-color-fitted-level-1) 1pt solid;\n",
       "  color: var(--sklearn-color-fitted-level-1);\n",
       "}\n",
       "\n",
       "/* On hover */\n",
       "#sk-container-id-5 a.estimator_doc_link:hover {\n",
       "  /* unfitted */\n",
       "  background-color: var(--sklearn-color-unfitted-level-3);\n",
       "  color: var(--sklearn-color-background);\n",
       "  text-decoration: none;\n",
       "}\n",
       "\n",
       "#sk-container-id-5 a.estimator_doc_link.fitted:hover {\n",
       "  /* fitted */\n",
       "  background-color: var(--sklearn-color-fitted-level-3);\n",
       "}\n",
       "</style><div id=\"sk-container-id-5\" class=\"sk-top-container\"><div class=\"sk-text-repr-fallback\"><pre>SVC(kernel=&#x27;linear&#x27;, probability=True, random_state=42)</pre><b>In a Jupyter environment, please rerun this cell to show the HTML representation or trust the notebook. <br />On GitHub, the HTML representation is unable to render, please try loading this page with nbviewer.org.</b></div><div class=\"sk-container\" hidden><div class=\"sk-item\"><div class=\"sk-estimator fitted sk-toggleable\"><input class=\"sk-toggleable__control sk-hidden--visually\" id=\"sk-estimator-id-5\" type=\"checkbox\" checked><label for=\"sk-estimator-id-5\" class=\"sk-toggleable__label fitted sk-toggleable__label-arrow\"><div><div>SVC</div></div><div><a class=\"sk-estimator-doc-link fitted\" rel=\"noreferrer\" target=\"_blank\" href=\"https://scikit-learn.org/1.6/modules/generated/sklearn.svm.SVC.html\">?<span>Documentation for SVC</span></a><span class=\"sk-estimator-doc-link fitted\">i<span>Fitted</span></span></div></label><div class=\"sk-toggleable__content fitted\"><pre>SVC(kernel=&#x27;linear&#x27;, probability=True, random_state=42)</pre></div> </div></div></div></div>"
      ],
      "text/plain": [
       "SVC(kernel='linear', probability=True, random_state=42)"
      ]
     },
     "execution_count": 215,
     "metadata": {},
     "output_type": "execute_result"
    }
   ],
   "source": [
    "# Entrenar modelo SVM\n",
    "svm_model.fit(X_train_tfidf, y_train)\n"
   ]
  },
  {
   "cell_type": "code",
   "execution_count": 216,
   "metadata": {},
   "outputs": [],
   "source": [
    "# Evaluar en validación\n",
    "y_val_pred = svm_model.predict(X_val_tfidf)\n",
    "y_val_prob = svm_model.predict_proba(X_val_tfidf)[:, 1]"
   ]
  },
  {
   "cell_type": "code",
   "execution_count": 217,
   "metadata": {},
   "outputs": [],
   "source": [
    "# Evaluar en prueba\n",
    "y_test_pred = svm_model.predict(X_test_tfidf)\n",
    "y_test_prob = svm_model.predict_proba(X_test_tfidf)[:, 1]"
   ]
  },
  {
   "cell_type": "markdown",
   "metadata": {},
   "source": [
    "### Resultados del entrenamiento"
   ]
  },
  {
   "cell_type": "code",
   "execution_count": 218,
   "metadata": {},
   "outputs": [],
   "source": [
    "# Matriz de confusión\n",
    "conf_matrix = confusion_matrix(y_test, y_test_pred)"
   ]
  },
  {
   "cell_type": "code",
   "execution_count": 219,
   "metadata": {},
   "outputs": [],
   "source": [
    "# Reporte de clasificación\n",
    "class_report = classification_report(y_test, y_test_pred, target_names=['Legitimate', 'Phishing'])"
   ]
  },
  {
   "cell_type": "code",
   "execution_count": 220,
   "metadata": {},
   "outputs": [],
   "source": [
    "# Curva ROC y AUC\n",
    "fpr, tpr, _ = roc_curve(y_test, y_test_prob)\n",
    "roc_auc = auc(fpr, tpr)"
   ]
  },
  {
   "cell_type": "code",
   "execution_count": 221,
   "metadata": {},
   "outputs": [
    {
     "data": {
      "image/png": "[encoded data removed]",
      "text/plain": [
       "<Figure size 600x500 with 2 Axes>"
      ]
     },
     "metadata": {},
     "output_type": "display_data"
    }
   ],
   "source": [
    "# Graficar Matriz de Confusión\n",
    "plt.figure(figsize=(6,5))\n",
    "sns.heatmap(conf_matrix, annot=True, fmt='d', cmap=\"Blues\", xticklabels=['Legitimate', 'Phishing'], yticklabels=['Legitimate', 'Phishing'])\n",
    "plt.xlabel('Predicted')\n",
    "plt.ylabel('Actual')\n",
    "plt.title('Confusion Matrix')\n",
    "plt.show()"
   ]
  },
  {
   "cell_type": "markdown",
   "metadata": {},
   "source": [
    "Resultados de la matriz de confusión: \n",
    "- Verdaderos positivos (Phishing detectado correctamente): 2359\n",
    "- Verdaderos negativos (Legitimate detectado correctamente): 2312\n",
    "- Falsos positivos (Legitimate clasificado como Phishing): 213\n",
    "- Falsos negativos (Phishing clasificado como Legitimate): 260\n",
    "\n",
    "\n",
    "Los 260 falsos negativos significan que el modelo no detectó 260 sitios de phishing, lo cual puede ser peligroso en un entorno real. En un caso de seguridad, un FN es más crítico que un FP, porque significa que un usuario podría confiar en un sitio malicioso."
   ]
  },
  {
   "cell_type": "code",
   "execution_count": 222,
   "metadata": {},
   "outputs": [
    {
     "data": {
      "image/png": "[encoded data removed]",
      "text/plain": [
       "<Figure size 600x500 with 1 Axes>"
      ]
     },
     "metadata": {},
     "output_type": "display_data"
    }
   ],
   "source": [
    "# Graficar Curva ROC\n",
    "plt.figure(figsize=(6,5))\n",
    "plt.plot(fpr, tpr, color='blue', lw=2, label=f'ROC curve (AUC = {roc_auc:.2f})')\n",
    "plt.plot([0, 1], [0, 1], color='gray', linestyle='--')\n",
    "plt.xlabel('False Positive Rate')\n",
    "plt.ylabel('True Positive Rate')\n",
    "plt.title('Receiver Operating Characteristic (ROC) Curve')\n",
    "plt.legend(loc=\"lower right\")\n",
    "plt.show()\n"
   ]
  },
  {
   "cell_type": "code",
   "execution_count": 223,
   "metadata": {},
   "outputs": [
    {
     "name": "stdout",
     "output_type": "stream",
     "text": [
      "Classification Report:\n",
      "               precision    recall  f1-score   support\n",
      "\n",
      "  Legitimate       0.90      0.92      0.91      2572\n",
      "    Phishing       0.92      0.90      0.91      2572\n",
      "\n",
      "    accuracy                           0.91      5144\n",
      "   macro avg       0.91      0.91      0.91      5144\n",
      "weighted avg       0.91      0.91      0.91      5144\n",
      "\n",
      "Area Under Curve (AUC): 0.9703\n"
     ]
    }
   ],
   "source": [
    "# Imprimir métricas\n",
    "print(\"Classification Report:\\n\", class_report)\n",
    "print(f\"Area Under Curve (AUC): {roc_auc:.4f}\")\n"
   ]
  },
  {
   "cell_type": "markdown",
   "metadata": {},
   "source": [
    "Le fue bastante bien al modelo, con un AUC de  0.9818 y una precisión y recall equilibrados en 0.93, el SVM parece estar funcionando bien en general. Por lo que se comento anteriormente con el FN el cual en consideración del tema es elevado, se recomienda  bajar el umbral para que el modelo sea más sensible al phishing, reduciendo falsos negativos a costa de aumentar falsos positivos."
   ]
  },
  {
   "cell_type": "markdown",
   "metadata": {},
   "source": [
    "## Random Forest"
   ]
  },
  {
   "cell_type": "code",
   "execution_count": 224,
   "metadata": {},
   "outputs": [],
   "source": [
    "from sklearn.preprocessing import StandardScaler\n",
    "from sklearn.compose import ColumnTransformer\n",
    "from sklearn.ensemble import RandomForestClassifier\n",
    "from sklearn.metrics import confusion_matrix, classification_report, roc_curve, auc"
   ]
  },
  {
   "cell_type": "code",
   "execution_count": 225,
   "metadata": {},
   "outputs": [],
   "source": [
    "# Definir X e y\n",
    "X = df.drop(columns=['status','url'])  # Suponiendo que 'status' es la variable objetivo\n",
    "y = df['status']"
   ]
  },
  {
   "cell_type": "code",
   "execution_count": 226,
   "metadata": {},
   "outputs": [],
   "source": [
    "# Dividir los datos correctamente\n",
    "test_size = 0.2  # 20% para pruebas\n",
    "random_state = 42  # Para reproducibilidad\n",
    "X_train, X_test, y_train, y_test = train_test_split(X, y, test_size=test_size, random_state=random_state, stratify=y)"
   ]
  },
  {
   "cell_type": "code",
   "execution_count": 227,
   "metadata": {},
   "outputs": [
    {
     "data": {
      "image/png": "[encoded data removed]",
      "text/plain": [
       "<Figure size 600x500 with 2 Axes>"
      ]
     },
     "metadata": {},
     "output_type": "display_data"
    },
    {
     "data": {
      "image/png": "[encoded data removed]",
      "text/plain": [
       "<Figure size 800x600 with 1 Axes>"
      ]
     },
     "metadata": {},
     "output_type": "display_data"
    },
    {
     "name": "stdout",
     "output_type": "stream",
     "text": [
      "Classification Report:\n",
      "               precision    recall  f1-score   support\n",
      "\n",
      "           0       0.74      0.86      0.79      1143\n",
      "           1       0.83      0.69      0.75      1143\n",
      "\n",
      "    accuracy                           0.78      2286\n",
      "   macro avg       0.78      0.78      0.77      2286\n",
      "weighted avg       0.78      0.78      0.77      2286\n",
      "\n"
     ]
    }
   ],
   "source": [
    "#entrenar y evaluar Random Forest\n",
    "random_forest_model = RandomForestClassifier(\n",
    "    n_estimators=100,\n",
    "    max_depth=10,  # Limitar la profundidad para evitar sobreajuste\n",
    "    min_samples_split=5,  # Número mínimo de muestras para dividir un nodo\n",
    "    min_samples_leaf=2,  # Número mínimo de muestras en una hoja\n",
    "    random_state=42\n",
    ")\n",
    "random_forest_model.fit(X_train, y_train)\n",
    "\n",
    "predictions = random_forest_model.predict(X_test)\n",
    "conf_matrix = confusion_matrix(y_test, predictions)\n",
    "report = classification_report(y_test, predictions)\n",
    "# Mostrar matriz de confusión\n",
    "plt.figure(figsize=(6,5))\n",
    "sns.heatmap(conf_matrix, annot=True, fmt='d', cmap='Blues')\n",
    "plt.xlabel('Predicted')\n",
    "plt.ylabel('Actual')\n",
    "plt.title('Confusion Matrix')\n",
    "plt.show()\n",
    "\n",
    "# Calcular y graficar la curva ROC correctamente\n",
    "probs = random_forest_model.predict_proba(X_test)[:, 1]\n",
    "fpr, tpr, _ = roc_curve(y_test, probs)\n",
    "roc_auc = auc(fpr, tpr)\n",
    "\n",
    "plt.figure(figsize=(8,6))\n",
    "plt.plot(fpr, tpr, color='darkorange', lw=2, label=f'ROC curve (AUC = {roc_auc:.2f})')\n",
    "plt.plot([0, 1], [0, 1], color='navy', lw=2, linestyle='--')\n",
    "plt.xlabel('False Positive Rate')\n",
    "plt.ylabel('True Positive Rate')\n",
    "plt.title('ROC Curve')\n",
    "plt.legend(loc='lower right')\n",
    "plt.show()\n",
    "\n",
    "print('Classification Report:\\n', report)"
   ]
  },
  {
   "cell_type": "markdown",
   "metadata": {},
   "source": [
    "Resultados de la matriz de confusión: \n",
    "- Verdaderos positivos (Phishing detectado correctamente): 983\n",
    "- Verdaderos negativos (Legitimate detectado correctamente): 79\n",
    "- Falsos positivos (Legitimate clasificado como Phishing): 160\n",
    "- Falsos negativos (Phishing clasificado como Legitimate): 353\n",
    "\n",
    "\n",
    "Los 353 falsos negativos significan que el modelo no detectó 353 sitios de phishing, lo cual puede ser peligroso en un entorno real. En un caso de seguridad, un FN es más crítico que un FP, porque significa que un usuario podría confiar en un sitio malicioso."
   ]
  },
  {
   "cell_type": "markdown",
   "metadata": {},
   "source": [
    "## Discusión"
   ]
  },
  {
   "cell_type": "markdown",
   "metadata": {},
   "source": [
    "4. ¿Cuál es el impacto de clasificar un sitio legítimo como phishing?\n",
    "- El impacto de clasificar un sitio legítimo como phishing (falso positivo) tiene consecuencias graves que afectan tanto a empresas como usuarios. Las empresas sufren pérdidas económicas directas por transacciones bloqueadas y un significativo daño a su reputación y confianza. Los usuarios experimentan frustración al no poder acceder a servicios legítimos, lo que puede llevar a la pérdida de clientes y afectar la credibilidad del sitio a largo plazo. Además, las organizaciones deben invertir recursos adicionales en resolver estos problemas de clasificación incorrecta y restaurar la confianza de sus usuarios.\n"
   ]
  },
  {
   "cell_type": "markdown",
   "metadata": {},
   "source": [
    "5. ¿Cuál es el impacto de clasificar un sitio de phishing como legítimo?\n",
    "- El impacto de clasificar un sitio de phishing como legítimo (falso negativo) tiene consecuencias graves que afectan directamente a la seguridad de los usuarios. Los atacantes pueden robar información sensible como credenciales bancarias, números de tarjetas de crédito y datos personales, lo que puede resultar en pérdidas financieras significativas para los usuarios y las instituciones. Este error de clasificación también puede facilitar el éxito de ataques de ingeniería social, comprometer la seguridad de sistemas más amplios y dañar la confianza general en los servicios en línea. La falta de detección de sitios maliciosos puede tener un efecto cascada, permitiendo que los atacantes continúen sus actividades y afecten a más víctimas."
   ]
  },
  {
   "cell_type": "markdown",
   "metadata": {},
   "source": [
    "6. En base a las respuestas anteriores, ¿Qué métrica elegiría para comparar modelos similares de clasificación de phishing?\n",
    "- Si la prioridad es reducir falsos negativos (dejar pasar phishing), usaría el recall de la clase 1 (0.69) como criterio principal. Pero si se busca un modelo balanceado, el F1-score macro (0.77) es la mejor opción."
   ]
  },
  {
   "cell_type": "markdown",
   "metadata": {},
   "source": [
    "7. ¿Qué modelo funcionó mejor para la clasificación de phishing? ¿Por qué?\n",
    "- Comparando los resultados de ambos modelos, el SVM (Support Vector Machine) superó al Random Forest en todas las métricas clave:\n",
    "\n",
    "- Accuracy: 0.91 en SVM vs. 0.78 en Random Forest.\n",
    "- F1-score macro: 0.91 en SVM vs. 0.77 en Random Forest.\n",
    "- Recall para phishing: 0.90 en SVM vs. 0.69 en Random Forest.\n",
    "- AUC-ROC: 0.9703 en SVM vs. 0.84 en Random Forest.\n",
    "- El SVM no solo tiene un mejor rendimiento general, sino que también es más confiable para detectar phishing, ya que tiene un recall más alto para la clase maliciosa (0.90 vs. 0.69). Esto significa que comete menos errores al clasificar sitios maliciosos, lo cual es fundamental en la detección de phishing.\n",
    "\n",
    "Dado que minimizar los falsos negativos es clave en este problema, y considerando que el SVM tiene una mejor capacidad de discriminación según el AUC-ROC, este modelo es claramente la mejor opción para la clasificación de phishing."
   ]
  },
  {
   "cell_type": "markdown",
   "metadata": {},
   "source": [
    "8. Una empresa desea utilizar su mejor modelo, debido a que sus empleados sufren constantes ataques de phishing mediante e-mail. La empresa estima que, de un total de 50,000 emails, un 15% son phishing. ¿Qué cantidad de alarmas generaría su modelo? ¿Cuántas positivas y cuantas negativas? ¿Funciona el modelo para el BR propuesto? En caso negativo, ¿qué propone para reducir la cantidad de falsas alarmas?\n",
    "\n",
    "**Cálculo de alarmas generadas por el modelo**\n",
    "\n",
    "El modelo SVM tiene las siguientes métricas clave:\n",
    "\n",
    "- Recall para phishing (clase positiva): 0.90 → Detecta el 90% de los correos phishing.\n",
    "- Precision para phishing: 0.92 → El 92% de las detecciones positivas son realmente phishing.\n",
    "\n",
    "Estimación de positivos y negativos:\n",
    "\n",
    "Verdaderos positivos (VP):\n",
    "\n",
    "- 90% de los 7,500 correos phishing serán detectados correctamente.\n",
    "- VP = 7,500 × 0.90 = 6,750 correos detectados correctamente como phishing.\n",
    "\n",
    "Falsos negativos (FN):\n",
    "\n",
    "- 10% de los correos phishing no serán detectados.\n",
    "- FN = 7,500 × 0.10 = 750 correos phishing no detectados (riesgo de ataque).\n",
    "\n",
    "Falsos positivos (FP):\n",
    "\n",
    "- 8% de los correos legítimos serán mal clasificados como phishing (porque Recall de legítimos = 0.92, entonces FNR = 1 - 0.92 = 0.08).\n",
    "- FP = 42,500 × 0.08 = 3,400 correos legítimos mal clasificados como phishing.\n",
    "\n",
    "Verdaderos negativos (VN):\n",
    "\n",
    "- 92% de los correos legítimos serán correctamente clasificados.\n",
    "- VN = 42,500 × 0.92 = 39,100 correos legítimos correctamente clasificados.\n",
    "\n",
    "**¿Funciona el modelo para el BR (Base Rate) propuesto?**\n",
    "\n",
    "El modelo genera un total de (6,750 VP + 3,400 FP) = 10,150 alertas de phishing, de las cuales 3,400 son falsas alarmas (FP). Esto significa que aproximadamente el 33.5% de las alertas serán incorrectas, lo que podría generar tension en los empleados y reducir la confianza en el sistema.\n",
    "\n",
    "**¿Cómo reducir la cantidad de falsas alarmas?**\n",
    "\n",
    "Para disminuir los falsos positivos sin afectar significativamente la detección de phishing, se pueden aplicar las siguientes estrategias:\n",
    "\n",
    "- Ajustar el umbral de clasificación del modelo: Si el modelo usa probabilidad de decisión, se puede aumentar el umbral de detección para reducir los FP a costa de un ligero aumento en los FN.\n",
    "- Usar un modelo híbrido: Combinar el SVM con técnicas de análisis de contenido como detección basada en reglas o análisis de lenguaje natural (NLP) para mejorar la precisión.\n",
    "- Aplicar filtrado adicional: Un sistema de validación posterior (ej. revisión manual de ciertos correos sospechosos) puede reducir las falsas alarmas sin comprometer la seguridad.\n",
    "- Entrenar con más datos específicos de la empresa: Si se entrena con correos internos y phishing real dirigido a la empresa, el modelo puede mejorar su discriminación."
   ]
  }
 ],
 "metadata": {
  "kernelspec": {
   "display_name": "Python 3",
   "language": "python",
   "name": "python3"
  },
  "language_info": {
   "codemirror_mode": {
    "name": "ipython",
    "version": 3
   },
   "file_extension": ".py",
   "mimetype": "text/x-python",
   "name": "python",
   "nbconvert_exporter": "python",
   "pygments_lexer": "ipython3",
   "version": "3.13.0"
  }
 },
 "nbformat": 4,
 "nbformat_minor": 2
}
